{
 "cells": [
  {
   "cell_type": "code",
   "execution_count": 1,
   "id": "2e25c4ed",
   "metadata": {},
   "outputs": [
    {
     "name": "stdout",
     "output_type": "stream",
     "text": [
      "1\n",
      "2\n",
      "3\n",
      "4\n"
     ]
    }
   ],
   "source": [
    "## break statement\n",
    "for i in range (1,11) :\n",
    "    print(i)\n",
    "    if i==4 : \n",
    "        break\n",
    "    "
   ]
  },
  {
   "cell_type": "code",
   "execution_count": 2,
   "id": "f6cc34ca",
   "metadata": {},
   "outputs": [
    {
     "name": "stdout",
     "output_type": "stream",
     "text": [
      "2\n",
      "4\n",
      "5\n",
      "6\n"
     ]
    }
   ],
   "source": [
    "## continue statement \n",
    "\n",
    "i = 1\n",
    "while i<6 :\n",
    "    i+=1\n",
    "    if i==3 :\n",
    "        continue\n",
    "    print(i)\n",
    "    "
   ]
  },
  {
   "cell_type": "code",
   "execution_count": 3,
   "id": "addfaa8a",
   "metadata": {},
   "outputs": [
    {
     "name": "stdout",
     "output_type": "stream",
     "text": [
      "10\n",
      "9\n",
      "8\n",
      "7\n",
      "6\n",
      "5\n",
      "4\n",
      "3\n",
      "2\n",
      "1\n",
      "0\n"
     ]
    }
   ],
   "source": [
    "## Reverse the loop\n",
    "\n",
    "i = 10\n",
    "while i>=0 :\n",
    "    print(i)\n",
    "    i-=1\n"
   ]
  },
  {
   "cell_type": "code",
   "execution_count": 4,
   "id": "c78def68",
   "metadata": {},
   "outputs": [
    {
     "name": "stdout",
     "output_type": "stream",
     "text": [
      "10\n",
      "9\n",
      "8\n",
      "7\n",
      "6\n",
      "5\n",
      "4\n",
      "3\n",
      "2\n",
      "1\n"
     ]
    }
   ],
   "source": [
    "## reverse using for loop\n",
    "\n",
    "for i in range(10,0,-1) :\n",
    "    print(i)\n",
    "    \n"
   ]
  },
  {
   "cell_type": "code",
   "execution_count": 5,
   "id": "cf4bbc24",
   "metadata": {},
   "outputs": [
    {
     "name": "stdout",
     "output_type": "stream",
     "text": [
      "number divided by 3 : 0\n"
     ]
    }
   ],
   "source": [
    "## check how many times a number can divide by 3 before it is less than or equal to 10\n",
    "\n",
    "num = int(input(\"enter a number \"))\n",
    "i = 0\n",
    "while num>10 :\n",
    "    num = num/3\n",
    "    i+=1\n",
    "print(\"number divided by 3 :\",i)"
   ]
  },
  {
   "cell_type": "code",
   "execution_count": 6,
   "id": "93be37e8",
   "metadata": {},
   "outputs": [
    {
     "name": "stdout",
     "output_type": "stream",
     "text": [
      "a\n",
      "b\n",
      "c\n",
      "d\n"
     ]
    }
   ],
   "source": [
    "## iteration a loop with the help of while loop \n",
    "lst = [\"a\",\"b\",\"c\",\"d\"]\n",
    "\n",
    "i = 0\n",
    "while(i<len(lst)) :\n",
    "    print(lst[i])\n",
    "    i+=1\n"
   ]
  },
  {
   "cell_type": "code",
   "execution_count": 7,
   "id": "f0d8d43c",
   "metadata": {},
   "outputs": [
    {
     "name": "stdout",
     "output_type": "stream",
     "text": [
      "demo function\n"
     ]
    }
   ],
   "source": [
    "## functions \n",
    "def demo():    # defining a function\n",
    "\n",
    "    ## block of code\n",
    "    print(\"demo function\")\n",
    "    #demo()   #creates infinite loop\n",
    "\n",
    "demo()     # function call \n"
   ]
  },
  {
   "cell_type": "code",
   "execution_count": 8,
   "id": "5acfb02d",
   "metadata": {},
   "outputs": [
    {
     "name": "stdout",
     "output_type": "stream",
     "text": [
      "hello my name is priyanshu\n"
     ]
    }
   ],
   "source": [
    "## parameters and arguments \n",
    "def name (fname):  # here ! fname is parameter (template variable)\n",
    "    print(\"hello my name is\",fname)\n",
    "\n",
    "name(\"priyanshu\")    # this is argument for name function"
   ]
  },
  {
   "cell_type": "code",
   "execution_count": 9,
   "id": "8d4c7b4d",
   "metadata": {},
   "outputs": [
    {
     "name": "stdout",
     "output_type": "stream",
     "text": [
      "hello kid : ('rohan', 'sohan', 'mohan')\n"
     ]
    }
   ],
   "source": [
    "## arbitary argument -- args--*\n",
    "## jab apan ko nhi pta ki kitne argument pass honge \n",
    "\n",
    "def my_function(*kids):\n",
    "    print(\"hello kid :\",kids)\n",
    "\n",
    "my_function(\"rohan\",\"sohan\",\"mohan\")   "
   ]
  },
  {
   "cell_type": "code",
   "execution_count": 10,
   "id": "d2e7f3be",
   "metadata": {},
   "outputs": [
    {
     "name": "stdout",
     "output_type": "stream",
     "text": [
      "value is  46\n",
      "value is  24\n"
     ]
    }
   ],
   "source": [
    "def hello(*val):\n",
    "    for i in val:\n",
    "        print(\"value is \",i)   # i -> iteratly elements sepratly , val -> \n",
    "\n",
    "hello(46,24) "
   ]
  },
  {
   "cell_type": "code",
   "execution_count": 11,
   "id": "113de509",
   "metadata": {},
   "outputs": [],
   "source": [
    "## format string "
   ]
  },
  {
   "cell_type": "code",
   "execution_count": 12,
   "id": "173058d4",
   "metadata": {},
   "outputs": [
    {
     "name": "stdout",
     "output_type": "stream",
     "text": [
      "the young child is mohan\n"
     ]
    }
   ],
   "source": [
    "## keyword argument -- jaha aap argument ki value as a key value pair pass krte ho\n",
    "\n",
    "def children(child1,child2,child3):\n",
    "    print(\"the young child is \" + child2)\n",
    "\n",
    "children(child2=\"mohan\",child1=\"ramesh\",child3=\"virat\")\n",
    "\n"
   ]
  },
  {
   "cell_type": "code",
   "execution_count": 13,
   "id": "e4bdf416",
   "metadata": {},
   "outputs": [
    {
     "name": "stdout",
     "output_type": "stream",
     "text": [
      "the youngest child is rohan\n"
     ]
    }
   ],
   "source": [
    "## arbitary keword argument -- kwargs--**\n",
    "\n",
    "def children(**child):\n",
    "    print(\"the youngest child is \" +child[\"fname\"])\n",
    "\n",
    "children(fname = \"rohan\",lanme = \"sharma\")    \n",
    "\n"
   ]
  },
  {
   "cell_type": "code",
   "execution_count": 14,
   "id": "63c311ee",
   "metadata": {},
   "outputs": [
    {
     "name": "stdout",
     "output_type": "stream",
     "text": [
      "my country india\n"
     ]
    }
   ],
   "source": [
    "## default parameter value \n",
    "\n",
    "# -> we initialise the value of parameter , ... it by default calls that value if no argument is passed \n",
    "\n",
    "def country(name = \"india\"):\n",
    "    print(\"my country\",name)\n",
    "\n",
    "country()    # if both argument and parameter have value ... then it uses argument value "
   ]
  },
  {
   "cell_type": "code",
   "execution_count": 15,
   "id": "c883cfdd",
   "metadata": {},
   "outputs": [
    {
     "name": "stdout",
     "output_type": "stream",
     "text": [
      "average of given value is 3.0\n"
     ]
    }
   ],
   "source": [
    "# wap to print average of list \n",
    "\n",
    "def avg(*lst):\n",
    "    sum=0\n",
    "    for i in lst:\n",
    "        sum+=i\n",
    "    print(\"average of given value is\",sum/len(lst))\n",
    "\n",
    "avg(1,2,3,4,5)   "
   ]
  },
  {
   "cell_type": "code",
   "execution_count": 16,
   "id": "7738f1bc",
   "metadata": {},
   "outputs": [
    {
     "data": {
      "text/plain": [
       "3.0"
      ]
     },
     "execution_count": 16,
     "metadata": {},
     "output_type": "execute_result"
    }
   ],
   "source": [
    "def avg_func(input):\n",
    "    return sum(input)/len(input)\n",
    "\n",
    "avg_func([1,2,3,4,5])"
   ]
  },
  {
   "cell_type": "code",
   "execution_count": 17,
   "id": "4b8f6979",
   "metadata": {},
   "outputs": [
    {
     "name": "stdout",
     "output_type": "stream",
     "text": [
      "[4, 16, 36, 64, 100]\n"
     ]
    }
   ],
   "source": [
    "## list --- square elements -- print list\n",
    "\n",
    "lst = [2,4,6,8,10]\n",
    "new = []\n",
    "for i in lst:\n",
    "    new.append(i*i)\n",
    "\n",
    "print(new)\n"
   ]
  },
  {
   "cell_type": "code",
   "execution_count": 18,
   "id": "e83be796",
   "metadata": {},
   "outputs": [
    {
     "name": "stdout",
     "output_type": "stream",
     "text": [
      "9\n"
     ]
    }
   ],
   "source": [
    "## lambda function--(small function)\n",
    "# -> multiple arguments in one expression \n",
    "\n",
    "x = lambda a,b,c : a+b+c\n",
    "print(x(2,3,4))"
   ]
  },
  {
   "cell_type": "code",
   "execution_count": 19,
   "id": "6f2447aa",
   "metadata": {},
   "outputs": [
    {
     "name": "stdout",
     "output_type": "stream",
     "text": [
      "[4, 9, 16, 25]\n"
     ]
    }
   ],
   "source": [
    "## map function -- (function , iterable)\n",
    "\n",
    "lst = [2,3,4,5]\n",
    "newlst = list(map(lambda a : a*a,lst))\n",
    "print(newlst)\n"
   ]
  },
  {
   "cell_type": "code",
   "execution_count": 20,
   "id": "5dbe57ac",
   "metadata": {},
   "outputs": [
    {
     "ename": "SyntaxError",
     "evalue": "invalid syntax (3878523930.py, line 6)",
     "output_type": "error",
     "traceback": [
      "  \u001b[36mCell\u001b[39m\u001b[36m \u001b[39m\u001b[32mIn[20]\u001b[39m\u001b[32m, line 6\u001b[39m\n\u001b[31m    \u001b[39m\u001b[31mnewlst =\u001b[39m\n             ^\n\u001b[31mSyntaxError\u001b[39m\u001b[31m:\u001b[39m invalid syntax\n"
     ]
    }
   ],
   "source": [
    "## filter function -- (function , iterable)\n",
    "\n",
    "def ff(a):\n",
    "    return a%2==0\n",
    "lst = [1,2,3,4]\n",
    "newlst = "
   ]
  },
  {
   "cell_type": "code",
   "execution_count": null,
   "id": "79ab19ce",
   "metadata": {},
   "outputs": [
    {
     "data": {
      "text/plain": [
       "21"
      ]
     },
     "execution_count": 33,
     "metadata": {},
     "output_type": "execute_result"
    }
   ],
   "source": [
    "## reduce\n",
    "\n",
    "from functools import reduce   # importing reduce from functools module \n",
    "\n",
    "lst = [1,2,3,4,5,6]\n",
    "new1 = reduce(lambda x , y : x+y,lst)\n",
    "new1"
   ]
  },
  {
   "cell_type": "code",
   "execution_count": null,
   "id": "d021d973",
   "metadata": {},
   "outputs": [
    {
     "data": {
      "text/plain": [
       "[(0, 'python'), (1, 'java'), (2, 'c')]"
      ]
     },
     "execution_count": 34,
     "metadata": {},
     "output_type": "execute_result"
    }
   ],
   "source": [
    "## enumerate \n",
    "\n",
    "name = [\"python\",\"java\",\"c\"]\n",
    "enumate_list = list(enumerate(name))\n",
    "enumate_list"
   ]
  }
 ],
 "metadata": {
  "kernelspec": {
   "display_name": "notebookenv",
   "language": "python",
   "name": "python3"
  },
  "language_info": {
   "codemirror_mode": {
    "name": "ipython",
    "version": 3
   },
   "file_extension": ".py",
   "mimetype": "text/x-python",
   "name": "python",
   "nbconvert_exporter": "python",
   "pygments_lexer": "ipython3",
   "version": "3.13.2"
  }
 },
 "nbformat": 4,
 "nbformat_minor": 5
}
