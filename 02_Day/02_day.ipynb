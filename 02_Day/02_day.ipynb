{
 "cells": [
  {
   "cell_type": "markdown",
   "id": "1b063247",
   "metadata": {},
   "source": [
    "## tuples\n",
    "- immutable\n",
    "- ordered\n",
    "- duplication allowed \n",
    "\n",
    "## sets \n",
    "- unordered\n",
    "- immutable \n",
    "- duplication not allowed\n",
    "\n",
    "## dictionary \n",
    "- key value pair \n",
    "- order \n",
    "- mutable \n",
    "- duplication not allowed"
   ]
  },
  {
   "cell_type": "code",
   "execution_count": 1,
   "id": "c69b0abb-ce2a-406f-a3d9-56238d6bd1f0",
   "metadata": {},
   "outputs": [
    {
     "name": "stdout",
     "output_type": "stream",
     "text": [
      "('hello', 1, 2, 3, True)\n",
      "<class 'tuple'>\n",
      "<class 'tuple'>\n"
     ]
    }
   ],
   "source": [
    "## tuple\n",
    "\n",
    "tpl = (\"hello\",1,2,3,True)\n",
    "print(tpl)\n",
    "print(type(tpl))\n",
    "\n",
    "# for single element tuple \n",
    "\n",
    "tpl2 = (\"hy\",)\n",
    "print(type(tpl2))\n"
   ]
  },
  {
   "cell_type": "code",
   "execution_count": 2,
   "id": "92111e1a",
   "metadata": {},
   "outputs": [
    {
     "name": "stdout",
     "output_type": "stream",
     "text": [
      "{1, 'hello', 2}\n"
     ]
    }
   ],
   "source": [
    "## sets \n",
    "\n",
    "st = {\"hello\",1,2,True,\"hello\"}\n",
    "print(st)"
   ]
  },
  {
   "cell_type": "code",
   "execution_count": 3,
   "id": "1b59fec2",
   "metadata": {},
   "outputs": [
    {
     "name": "stdout",
     "output_type": "stream",
     "text": [
      "{'name': 'upflairs', 'year': 2023}\n",
      "<class 'dict'>\n",
      "upflairs\n",
      "{'name': 'google', 'year': 2023}\n",
      "google\n",
      "dict_items([('name', 'google'), ('year', 2023)])\n",
      "dict_values(['google', 2023])\n",
      "dict_keys(['name', 'year'])\n",
      "google\n",
      "('year', 2023)\n",
      "{'name': 'amazon', 'address': 'alwar'}\n"
     ]
    },
    {
     "data": {
      "text/plain": [
       "{'name': 'upflairs', 'year': 2023}"
      ]
     },
     "execution_count": 3,
     "metadata": {},
     "output_type": "execute_result"
    }
   ],
   "source": [
    "## Dictionary \n",
    "\n",
    "dt = {\n",
    "    \"name\" : \"upflairs\" ,\n",
    "    \"year\"  : 2023 ,\n",
    "}\n",
    "print(dt)\n",
    "print(type(dt))\n",
    "# indexing not allowed , access using keys \n",
    "print(dt[\"name\"])\n",
    "dt[\"name\"] = \"google\" # during access value can be updated also ,\n",
    "print(dt)\n",
    "\n",
    "print(dt.get(\"name\"))\n",
    "print(dt.items())\n",
    "print(dt.values())\n",
    "print(dt.keys())\n",
    "print(dt.pop(\"name\"))\n",
    "print(dt.popitem())\n",
    "dt.update({\"name\": \"amazon\",\"address\": \"alwar\"})\n",
    "print(dt)\n",
    "\n",
    "dt1 = dict(name=\"upflairs\",year=2023)\n",
    "dt1\n"
   ]
  },
  {
   "cell_type": "code",
   "execution_count": 4,
   "id": "b13b8c63",
   "metadata": {},
   "outputs": [
    {
     "name": "stdout",
     "output_type": "stream",
     "text": [
      "a is greater\n"
     ]
    }
   ],
   "source": [
    " # conditional statements (if , elif , else)\n",
    "\n",
    "a = 10;\n",
    "b = 20;\n",
    "if a<b:\n",
    "    print(\"a is greater\")\n",
    "else:\n",
    "    print(\"b is greater\")\n",
    "    "
   ]
  },
  {
   "cell_type": "code",
   "execution_count": 5,
   "id": "36614aff",
   "metadata": {},
   "outputs": [
    {
     "name": "stdout",
     "output_type": "stream",
     "text": [
      "20\n",
      "<class 'int'>\n"
     ]
    }
   ],
   "source": [
    "## user input \n",
    "name = input(\"enter name\") # it allow all in input \n",
    "name = int(input(\"enter age\")) # allows only partcular datatype \n",
    "print(name)\n",
    "\n",
    "print(type(name))\n"
   ]
  },
  {
   "cell_type": "code",
   "execution_count": 7,
   "id": "aeb2b0ce",
   "metadata": {},
   "outputs": [
    {
     "name": "stdout",
     "output_type": "stream",
     "text": [
      "20 number is even\n"
     ]
    }
   ],
   "source": [
    "## write a program to check whethrt no. is even or odd \n",
    "\n",
    "number = int(input(\"enter number :\"))\n",
    "if number%2 == 0 :\n",
    "    print(number,\"number is even\")\n",
    "else:\n",
    "    print(number,\"number is odd\")"
   ]
  },
  {
   "cell_type": "code",
   "execution_count": 8,
   "id": "f7f46c8b",
   "metadata": {},
   "outputs": [
    {
     "name": "stdout",
     "output_type": "stream",
     "text": [
      "working as intersection\n"
     ]
    }
   ],
   "source": [
    "a = 10\n",
    "b = 20\n",
    "if not (a>b or a<b):\n",
    "    print(\"working as union\")\n",
    "else:\n",
    "    print(\"working as intersection\")\n",
    "    \n"
   ]
  },
  {
   "cell_type": "code",
   "execution_count": 9,
   "id": "fb4a36d4",
   "metadata": {},
   "outputs": [
    {
     "name": "stdout",
     "output_type": "stream",
     "text": [
      "number is prime\n"
     ]
    }
   ],
   "source": [
    "## wap to print whether number is prime or not \n",
    "\n",
    "num = int(input(\"enter number\"))\n",
    "if num%6==1 or num%6==5 :\n",
    "    print(\"number is prime\")\n",
    "else:\n",
    "    print(\"number is not prime\")"
   ]
  },
  {
   "cell_type": "code",
   "execution_count": 12,
   "id": "e073d518",
   "metadata": {},
   "outputs": [
    {
     "ename": "AttributeError",
     "evalue": "'set' object has no attribute 'item'",
     "output_type": "error",
     "traceback": [
      "\u001b[31m---------------------------------------------------------------------------\u001b[39m",
      "\u001b[31mAttributeError\u001b[39m                            Traceback (most recent call last)",
      "\u001b[36mCell\u001b[39m\u001b[36m \u001b[39m\u001b[32mIn[12]\u001b[39m\u001b[32m, line 10\u001b[39m\n\u001b[32m      3\u001b[39m lst = [\u001b[33m\"\u001b[39m\u001b[33mhello\u001b[39m\u001b[33m\"\u001b[39m,\u001b[32m22.34\u001b[39m,\u001b[32m22\u001b[39m,\u001b[32m1\u001b[39m,\u001b[38;5;28;01mTrue\u001b[39;00m]\n\u001b[32m      5\u001b[39m dt = {\n\u001b[32m      6\u001b[39m     \u001b[33m\"\u001b[39m\u001b[33mname\u001b[39m\u001b[33m\"\u001b[39m == \u001b[33m\"\u001b[39m\u001b[33mpriyanshu\u001b[39m\u001b[33m\"\u001b[39m,\n\u001b[32m      7\u001b[39m     \u001b[33m\"\u001b[39m\u001b[33mage\u001b[39m\u001b[33m\"\u001b[39m == \u001b[32m19\u001b[39m,\n\u001b[32m      8\u001b[39m     \u001b[33m\"\u001b[39m\u001b[33mdob\u001b[39m\u001b[33m\"\u001b[39m == \u001b[32m2006\u001b[39m,\n\u001b[32m      9\u001b[39m }\n\u001b[32m---> \u001b[39m\u001b[32m10\u001b[39m \u001b[38;5;28;01mfor\u001b[39;00m i,j \u001b[38;5;129;01min\u001b[39;00m \u001b[43mdt\u001b[49m\u001b[43m.\u001b[49m\u001b[43mitem\u001b[49m() :\n\u001b[32m     11\u001b[39m     \u001b[38;5;28mprint\u001b[39m(i,\u001b[33m\"\u001b[39m\u001b[33m:\u001b[39m\u001b[33m\"\u001b[39m,j)\n\u001b[32m     12\u001b[39m     \u001b[38;5;28;01mfor\u001b[39;00m i \u001b[38;5;129;01min\u001b[39;00m dt :\n",
      "\u001b[31mAttributeError\u001b[39m: 'set' object has no attribute 'item'"
     ]
    }
   ],
   "source": [
    "## for -- iterating over a sequence (string,list,tuple,set,dict)\n",
    "\n",
    "lst = [\"hello\",22.34,22,1,True]\n",
    "\n",
    "dt = {\n",
    "    \"name\" == \"priyanshu\",\n",
    "    \"age\" == 19,\n",
    "    \"dob\" == 2006,\n",
    "}\n",
    "for i,j in dt.item() :\n",
    "    print(i,\":\",j)\n",
    "    for i in dt :\n",
    "        print(i,\":\",j)\n",
    "\n",
    "        "
   ]
  },
  {
   "cell_type": "code",
   "execution_count": null,
   "id": "b12262b8",
   "metadata": {},
   "outputs": [
    {
     "name": "stdout",
     "output_type": "stream",
     "text": [
      "1\n",
      "2\n",
      "3\n",
      "4\n",
      "5\n",
      "6\n",
      "7\n",
      "8\n",
      "9\n",
      "10\n"
     ]
    }
   ],
   "source": [
    "## looping\n",
    " # whole loop\n",
    "i = 1\n",
    "while i<=10:\n",
    "    print(i)\n",
    "    i+=1 # (updation ) :- infinite looping\n",
    "    \n"
   ]
  },
  {
   "cell_type": "code",
   "execution_count": null,
   "id": "671fd630",
   "metadata": {},
   "outputs": [
    {
     "name": "stdout",
     "output_type": "stream",
     "text": [
      "1\n",
      "3\n",
      "5\n",
      "7\n",
      "9\n"
     ]
    }
   ],
   "source": [
    "# for loop \n",
    "\n",
    "for i in range (1,10,2):\n",
    "    print(i)\n"
   ]
  }
 ],
 "metadata": {
  "kernelspec": {
   "display_name": "notebookenv",
   "language": "python",
   "name": "python3"
  },
  "language_info": {
   "codemirror_mode": {
    "name": "ipython",
    "version": 3
   },
   "file_extension": ".py",
   "mimetype": "text/x-python",
   "name": "python",
   "nbconvert_exporter": "python",
   "pygments_lexer": "ipython3",
   "version": "3.13.2"
  }
 },
 "nbformat": 4,
 "nbformat_minor": 5
}
