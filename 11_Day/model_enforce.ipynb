{
 "cells": [
  {
   "cell_type": "code",
   "execution_count": null,
   "id": "a05fcb0f",
   "metadata": {},
   "outputs": [],
   "source": [
    "## model Enforce \n",
    " # -> reg --- mse , mae , Rmse\n",
    " # class -- confusion matrix , classification report"
   ]
  },
  {
   "cell_type": "code",
   "execution_count": null,
   "id": "9f1b6cb8",
   "metadata": {},
   "outputs": [],
   "source": [
    "## decision Tree"
   ]
  },
  {
   "cell_type": "code",
   "execution_count": 2,
   "id": "fc95c8a3",
   "metadata": {},
   "outputs": [],
   "source": [
    "from sklearn.tree import DecisionTreeClassifier\n",
    "import pandas as pd "
   ]
  },
  {
   "cell_type": "code",
   "execution_count": 3,
   "id": "b233f6de",
   "metadata": {},
   "outputs": [],
   "source": [
    "# fd = pd.read_csv(\"/Users/priyanshubansal/developer/training/training_material/cleaned_cust_satisfaction.csv\")\n",
    "fd=pd.read_csv(\"../10_Day/cleaned_cust_satisfaction.csv\")"
   ]
  },
  {
   "cell_type": "code",
   "execution_count": null,
   "id": "c589c904",
   "metadata": {},
   "outputs": [],
   "source": [
    "x = fd.drop(columns=[\"\"])"
   ]
  }
 ],
 "metadata": {
  "kernelspec": {
   "display_name": "notebookenv",
   "language": "python",
   "name": "python3"
  },
  "language_info": {
   "codemirror_mode": {
    "name": "ipython",
    "version": 3
   },
   "file_extension": ".py",
   "mimetype": "text/x-python",
   "name": "python",
   "nbconvert_exporter": "python",
   "pygments_lexer": "ipython3",
   "version": "3.13.2"
  }
 },
 "nbformat": 4,
 "nbformat_minor": 5
}
