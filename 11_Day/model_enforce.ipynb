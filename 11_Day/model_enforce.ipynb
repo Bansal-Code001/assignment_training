{
 "cells": [
  {
   "cell_type": "code",
   "execution_count": null,
   "id": "a05fcb0f",
   "metadata": {},
   "outputs": [],
   "source": [
    "## model Enforce \n",
    " # -> reg --- mse , mae , Rmse\n",
    " # class -- confusion matrix , classification report"
   ]
  },
  {
   "cell_type": "code",
   "execution_count": 1,
   "id": "94bea2c6",
   "metadata": {},
   "outputs": [],
   "source": [
    "from sklearn.metrics import confusion_matrix , classification_report"
   ]
  }
 ],
 "metadata": {
  "kernelspec": {
   "display_name": "notebookenv",
   "language": "python",
   "name": "python3"
  },
  "language_info": {
   "codemirror_mode": {
    "name": "ipython",
    "version": 3
   },
   "file_extension": ".py",
   "mimetype": "text/x-python",
   "name": "python",
   "nbconvert_exporter": "python",
   "pygments_lexer": "ipython3",
   "version": "3.13.2"
  }
 },
 "nbformat": 4,
 "nbformat_minor": 5
}
